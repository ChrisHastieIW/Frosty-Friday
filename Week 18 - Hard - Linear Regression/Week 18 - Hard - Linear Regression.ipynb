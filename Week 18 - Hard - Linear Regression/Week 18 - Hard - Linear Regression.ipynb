{
 "cells": [
  {
   "cell_type": "markdown",
   "metadata": {},
   "source": [
    "# Linear Regression Using Snowpark for Python and Scikit Learn\n",
    "\n",
    "[Frosty Friday Challenge: Week 18 - Hard - Linear Regression](https://frostyfriday.org/2022/10/14/week-18-linear-regression/)\n",
    "\n",
    "The purpose of this script is to demonstrate simple data science linear regression on Snowflake objects using Snowpark for Python and Scikit Learn."
   ]
  },
  {
   "cell_type": "markdown",
   "metadata": {},
   "source": [
    "## Import the various packages\n",
    "\n",
    "Before we can begin, we must import the required packages."
   ]
  },
  {
   "cell_type": "markdown",
   "metadata": {},
   "source": [
    "### Main packages"
   ]
  },
  {
   "cell_type": "code",
   "execution_count": 1,
   "metadata": {},
   "outputs": [
    {
     "name": "stderr",
     "output_type": "stream",
     "text": [
      "c:\\Users\\Chris\\.conda\\envs\\py38_snowpark_frosty_friday\\lib\\site-packages\\scipy\\__init__.py:146: UserWarning: A NumPy version >=1.16.5 and <1.23.0 is required for this version of SciPy (detected version 1.23.1\n",
      "  warnings.warn(f\"A NumPy version >={np_minversion} and <{np_maxversion}\"\n"
     ]
    }
   ],
   "source": [
    "import pandas\n",
    "from sklearn.linear_model import LinearRegression\n",
    "from datetime import date\n",
    "import snowflake.snowpark"
   ]
  },
  {
   "cell_type": "markdown",
   "metadata": {},
   "source": [
    "### InterWorks Snowpark package\n",
    "\n",
    "We must also import the required package from the InterWorks Snowpark package and leverage it to create a Snowflake Snowpark Session object that is connected to our Snowflake environment. Alternatively, you can modify the code to establish a Snowflake Snowpark Session through any method of your choice."
   ]
  },
  {
   "cell_type": "code",
   "execution_count": 2,
   "metadata": {},
   "outputs": [],
   "source": [
    "## Import module to build snowpark sessions\n",
    "from shared.interworks_snowpark.interworks_snowpark_python.snowpark_session_builder import build_snowpark_session_via_parameters_json as build_snowpark_session\n",
    "\n",
    "## Generate Snowpark session\n",
    "snowpark_session = build_snowpark_session()"
   ]
  },
  {
   "cell_type": "markdown",
   "metadata": {},
   "source": [
    "## Retrieve data\n",
    "\n",
    "Before we can train a model, we must retrieve the data that we wish to leverage."
   ]
  },
  {
   "cell_type": "markdown",
   "metadata": {},
   "source": [
    "### Retrieve the data from the source table"
   ]
  },
  {
   "cell_type": "code",
   "execution_count": 3,
   "metadata": {},
   "outputs": [
    {
     "name": "stdout",
     "output_type": "stream",
     "text": [
      "----------------------\n",
      "|\"YEAR\"  |\"MEASURE\"  |\n",
      "----------------------\n",
      "|1972    |22.542     |\n",
      "|1973    |23.756     |\n",
      "|1974    |26.229     |\n",
      "|1975    |28.415     |\n",
      "|1976    |29.974     |\n",
      "|1977    |31.923     |\n",
      "|1978    |34.145     |\n",
      "|1979    |37.178     |\n",
      "|1980    |41.182     |\n",
      "|1981    |44.871     |\n",
      "----------------------\n",
      "\n"
     ]
    }
   ],
   "source": [
    "df_input_sf = snowpark_session.sql('''\n",
    "  SELECT YEAR(\"Date\") AS \"YEAR\", \"Value\" as \"MEASURE\"\n",
    "  FROM \"SHARE_ECONOMY_DATA_ATLAS\".\"ECONOMY\".\"BEANIPA\"\n",
    "  WHERE \"Table Name\" = 'Price Indexes For Personal Consumption Expenditures By Major Type Of Product'\n",
    "    AND \"Indicator Name\" = 'Personal consumption expenditures (PCE)'\n",
    "    AND \"Frequency\" = 'A'\n",
    "    AND \"Date\" >= '1972-01-01' \n",
    "    AND \"Date\" < '2021-01-01' \n",
    "  ORDER BY \"Date\"\n",
    "''') \n",
    "\n",
    "df_input_sf.show()"
   ]
  },
  {
   "cell_type": "markdown",
   "metadata": {},
   "source": [
    "### Convert data into a Pandas dataframe\n",
    "\n",
    "Our current dataframe is a Snowflake dataframe, representing a query to an object in Snowflake. We wish to download this into a Pandas dataframe so that we can manipulate it more freely."
   ]
  },
  {
   "cell_type": "code",
   "execution_count": 4,
   "metadata": {},
   "outputs": [
    {
     "data": {
      "text/html": [
       "<div>\n",
       "<style scoped>\n",
       "    .dataframe tbody tr th:only-of-type {\n",
       "        vertical-align: middle;\n",
       "    }\n",
       "\n",
       "    .dataframe tbody tr th {\n",
       "        vertical-align: top;\n",
       "    }\n",
       "\n",
       "    .dataframe thead th {\n",
       "        text-align: right;\n",
       "    }\n",
       "</style>\n",
       "<table border=\"1\" class=\"dataframe\">\n",
       "  <thead>\n",
       "    <tr style=\"text-align: right;\">\n",
       "      <th></th>\n",
       "      <th>YEAR</th>\n",
       "      <th>MEASURE</th>\n",
       "    </tr>\n",
       "  </thead>\n",
       "  <tbody>\n",
       "    <tr>\n",
       "      <th>0</th>\n",
       "      <td>1972</td>\n",
       "      <td>22.542</td>\n",
       "    </tr>\n",
       "    <tr>\n",
       "      <th>1</th>\n",
       "      <td>1973</td>\n",
       "      <td>23.756</td>\n",
       "    </tr>\n",
       "    <tr>\n",
       "      <th>2</th>\n",
       "      <td>1974</td>\n",
       "      <td>26.229</td>\n",
       "    </tr>\n",
       "    <tr>\n",
       "      <th>3</th>\n",
       "      <td>1975</td>\n",
       "      <td>28.415</td>\n",
       "    </tr>\n",
       "    <tr>\n",
       "      <th>4</th>\n",
       "      <td>1976</td>\n",
       "      <td>29.974</td>\n",
       "    </tr>\n",
       "  </tbody>\n",
       "</table>\n",
       "</div>"
      ],
      "text/plain": [
       "   YEAR  MEASURE\n",
       "0  1972   22.542\n",
       "1  1973   23.756\n",
       "2  1974   26.229\n",
       "3  1975   28.415\n",
       "4  1976   29.974"
      ]
     },
     "execution_count": 4,
     "metadata": {},
     "output_type": "execute_result"
    }
   ],
   "source": [
    "# df_input = df_input_sf.select(year(col('\"Date\"')).alias('\"Year\"'), col('\"Value\"').alias('PCE') ).to_pandas()\n",
    "df_input = df_input_sf.to_pandas()\n",
    "\n",
    "df_input.head()"
   ]
  },
  {
   "cell_type": "markdown",
   "metadata": {},
   "source": [
    "## Create predictive model\n",
    "\n",
    "Now that we have our data, we are ready to begin constructing our predictive model."
   ]
  },
  {
   "cell_type": "markdown",
   "metadata": {},
   "source": [
    "### Determine inputs\n",
    "\n",
    "Determine the inputs for our linear regression model."
   ]
  },
  {
   "cell_type": "code",
   "execution_count": 5,
   "metadata": {},
   "outputs": [],
   "source": [
    "#x = df_input.index.to_numpy().reshape(-1, 1)\n",
    "\n",
    "x = df_input[\"YEAR\"].to_numpy().reshape(-1, 1)\n",
    "y = df_input[\"MEASURE\"].to_numpy()"
   ]
  },
  {
   "cell_type": "markdown",
   "metadata": {},
   "source": [
    "### Create linear regression model\n",
    "\n",
    "Leverage LinearRegression to create a model."
   ]
  },
  {
   "cell_type": "code",
   "execution_count": 6,
   "metadata": {},
   "outputs": [],
   "source": [
    "model = LinearRegression().fit(x, y)"
   ]
  },
  {
   "cell_type": "markdown",
   "metadata": {},
   "source": [
    "### Test model\n",
    "\n",
    "Test the model on a given predicted value."
   ]
  },
  {
   "cell_type": "code",
   "execution_count": 7,
   "metadata": {},
   "outputs": [
    {
     "name": "stdout",
     "output_type": "stream",
     "text": [
      "    YEAR  MEASURE\n",
      "44  2016  104.148\n",
      "45  2017  106.054\n",
      "46  2018  108.317\n",
      "47  2019  109.933\n",
      "48  2020  111.145\n",
      "Prediction for 2021: 116.22\n"
     ]
    }
   ],
   "source": [
    "predictYear = 2021\n",
    "pce_pred = model.predict([[predictYear]])\n",
    "# print the last 5 years\n",
    "print (df_input.tail() )\n",
    "# run the prediction for 2021\n",
    "print ('Prediction for '+str(predictYear)+': '+ str(round(pce_pred[0],2)))"
   ]
  },
  {
   "cell_type": "markdown",
   "metadata": {},
   "source": [
    "## Not seeing challenge values\n",
    "\n",
    "The challenge expects a 2021 value of 116.23 for this prediction, which I am not seeing. I have tried filtering to 1972 onwards like in the [suggested quickstart](https://quickstarts.snowflake.com/guide/data_apps_summit_lab/) but then I get a value of 116.18. Also filtering out the 2021 actual value from the input then yields a 2021 prediction of 116.22 which is far closer.\n",
    "\n",
    "Comparing the results and values with the original [Snowflake Quick Starts code](https://github.com/Snowflake-Labs/sfquickstarts/blob/master/site/sfguides/src/data_apps_summit_lab/assets/project_files/my_snowpark_pce.ipynb) it appears the original data itself has changed in very small volumes, for example the actual value for 2019 is now 109.933 when it used to be 109.922\n",
    "\n",
    "I believe this means my solution is correct and the input data itself has simply changed."
   ]
  }
 ],
 "metadata": {
  "kernelspec": {
   "display_name": "Python 3.8.13 ('py38_snowpark_frosty_friday')",
   "language": "python",
   "name": "python3"
  },
  "language_info": {
   "codemirror_mode": {
    "name": "ipython",
    "version": 3
   },
   "file_extension": ".py",
   "mimetype": "text/x-python",
   "name": "python",
   "nbconvert_exporter": "python",
   "pygments_lexer": "ipython3",
   "version": "3.8.13"
  },
  "orig_nbformat": 4,
  "vscode": {
   "interpreter": {
    "hash": "cd13652bdc7134f19cfdb20040ee232d408b3a4812e0863177d92b0155d1d658"
   }
  }
 },
 "nbformat": 4,
 "nbformat_minor": 2
}
