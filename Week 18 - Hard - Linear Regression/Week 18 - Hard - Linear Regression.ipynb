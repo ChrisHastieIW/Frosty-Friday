{
 "cells": [
  {
   "cell_type": "markdown",
   "metadata": {},
   "source": [
    "# Linear Regression Using Snowpark for Python and Scikit Learn\n",
    "\n",
    "[Frosty Friday Challenge: Week 18 - Hard - Linear Regression](https://frostyfriday.org/2022/10/14/week-18-linear-regression/)\n",
    "\n",
    "The purpose of this script is to demonstrate simple data science linear regression on Snowflake objects using Snowpark for Python and Scikit Learn."
   ]
  },
  {
   "cell_type": "markdown",
   "metadata": {},
   "source": [
    "## Import the various packages\n",
    "\n",
    "Before we can begin, we must import the required packages."
   ]
  },
  {
   "cell_type": "markdown",
   "metadata": {},
   "source": [
    "### Main packages"
   ]
  },
  {
   "cell_type": "code",
   "execution_count": 1,
   "metadata": {},
   "outputs": [
    {
     "name": "stderr",
     "output_type": "stream",
     "text": [
      "c:\\Users\\Chris\\.conda\\envs\\py38_snowpark_frosty_friday\\lib\\site-packages\\scipy\\__init__.py:146: UserWarning: A NumPy version >=1.16.5 and <1.23.0 is required for this version of SciPy (detected version 1.23.1\n",
      "  warnings.warn(f\"A NumPy version >={np_minversion} and <{np_maxversion}\"\n"
     ]
    }
   ],
   "source": [
    "import pandas\n",
    "from sklearn.linear_model import LinearRegression\n",
    "from datetime import date\n",
    "import snowflake.snowpark"
   ]
  },
  {
   "cell_type": "markdown",
   "metadata": {},
   "source": [
    "### InterWorks Snowpark package\n",
    "\n",
    "We must also import the required package from the InterWorks Snowpark package and leverage it to create a Snowflake Snowpark Session object that is connected to our Snowflake environment. Alternatively, you can modify the code to establish a Snowflake Snowpark Session through any method of your choice."
   ]
  },
  {
   "cell_type": "code",
   "execution_count": 2,
   "metadata": {},
   "outputs": [],
   "source": [
    "## Import module to build snowpark sessions\n",
    "from shared.interworks_snowpark.interworks_snowpark_python.snowpark_session_builder import build_snowpark_session_via_parameters_json as build_snowpark_session\n",
    "\n",
    "## Generate Snowpark session\n",
    "snowpark_session = build_snowpark_session()"
   ]
  },
  {
   "cell_type": "markdown",
   "metadata": {},
   "source": [
    "## Retrieve data\n",
    "\n",
    "Before we can train a model, we must retrieve the data that we wish to leverage."
   ]
  },
  {
   "cell_type": "markdown",
   "metadata": {},
   "source": [
    "### Retrieve the data from the source table"
   ]
  },
  {
   "cell_type": "code",
   "execution_count": 63,
   "metadata": {},
   "outputs": [
    {
     "name": "stdout",
     "output_type": "stream",
     "text": [
      "----------------------\n",
      "|\"YEAR\"  |\"MEASURE\"  |\n",
      "----------------------\n",
      "|1929    |9.296      |\n",
      "|1930    |8.902      |\n",
      "|1931    |7.949      |\n",
      "|1932    |7.01       |\n",
      "|1933    |6.761      |\n",
      "|1934    |7.068      |\n",
      "|1935    |7.242      |\n",
      "|1936    |7.308      |\n",
      "|1937    |7.575      |\n",
      "|1938    |7.402      |\n",
      "----------------------\n",
      "\n"
     ]
    }
   ],
   "source": [
    "df_input_sf = snowpark_session.sql('''\n",
    "  SELECT YEAR(\"Date\") AS \"YEAR\", \"Value\" as \"MEASURE\"\n",
    "  FROM \"SHARE_ECONOMY_DATA_ATLAS\".\"ECONOMY\".\"BEANIPA\"\n",
    "  WHERE \"Table Name\" = 'Price Indexes For Personal Consumption Expenditures By Major Type Of Product'\n",
    "    AND \"Indicator Name\" = 'Personal consumption expenditures (PCE)'\n",
    "    AND \"Frequency\" = 'A'\n",
    "    --AND \"Date\" >= '1972-01-01' \n",
    "    --AND \"Date\" < '2021-01-01' \n",
    "  ORDER BY \"Date\"\n",
    "''') \n",
    "\n",
    "df_input_sf.show()"
   ]
  },
  {
   "cell_type": "markdown",
   "metadata": {},
   "source": [
    "### Convert data into a Pandas dataframe\n",
    "\n",
    "Our current dataframe is a Snowflake dataframe, representing a query to an object in Snowflake. We wish to download this into a Pandas dataframe so that we can manipulate it more freely."
   ]
  },
  {
   "cell_type": "code",
   "execution_count": 64,
   "metadata": {},
   "outputs": [
    {
     "data": {
      "text/html": [
       "<div>\n",
       "<style scoped>\n",
       "    .dataframe tbody tr th:only-of-type {\n",
       "        vertical-align: middle;\n",
       "    }\n",
       "\n",
       "    .dataframe tbody tr th {\n",
       "        vertical-align: top;\n",
       "    }\n",
       "\n",
       "    .dataframe thead th {\n",
       "        text-align: right;\n",
       "    }\n",
       "</style>\n",
       "<table border=\"1\" class=\"dataframe\">\n",
       "  <thead>\n",
       "    <tr style=\"text-align: right;\">\n",
       "      <th></th>\n",
       "      <th>YEAR</th>\n",
       "      <th>MEASURE</th>\n",
       "    </tr>\n",
       "  </thead>\n",
       "  <tbody>\n",
       "    <tr>\n",
       "      <th>0</th>\n",
       "      <td>1929</td>\n",
       "      <td>9.296</td>\n",
       "    </tr>\n",
       "    <tr>\n",
       "      <th>1</th>\n",
       "      <td>1930</td>\n",
       "      <td>8.902</td>\n",
       "    </tr>\n",
       "    <tr>\n",
       "      <th>2</th>\n",
       "      <td>1931</td>\n",
       "      <td>7.949</td>\n",
       "    </tr>\n",
       "    <tr>\n",
       "      <th>3</th>\n",
       "      <td>1932</td>\n",
       "      <td>7.010</td>\n",
       "    </tr>\n",
       "    <tr>\n",
       "      <th>4</th>\n",
       "      <td>1933</td>\n",
       "      <td>6.761</td>\n",
       "    </tr>\n",
       "  </tbody>\n",
       "</table>\n",
       "</div>"
      ],
      "text/plain": [
       "   YEAR  MEASURE\n",
       "0  1929    9.296\n",
       "1  1930    8.902\n",
       "2  1931    7.949\n",
       "3  1932    7.010\n",
       "4  1933    6.761"
      ]
     },
     "execution_count": 64,
     "metadata": {},
     "output_type": "execute_result"
    }
   ],
   "source": [
    "# df_input = df_input_sf.select(year(col('\"Date\"')).alias('\"Year\"'), col('\"Value\"').alias('PCE') ).to_pandas()\n",
    "df_input = df_input_sf.to_pandas()\n",
    "\n",
    "df_input.head()"
   ]
  },
  {
   "cell_type": "markdown",
   "metadata": {},
   "source": [
    "## Create predictive model\n",
    "\n",
    "Now that we have our data, we are ready to begin constructing our predictive model."
   ]
  },
  {
   "cell_type": "markdown",
   "metadata": {},
   "source": [
    "### Determine inputs\n",
    "\n",
    "Determine the inputs for our linear regression model."
   ]
  },
  {
   "cell_type": "code",
   "execution_count": 65,
   "metadata": {},
   "outputs": [],
   "source": [
    "#x = df_input.index.to_numpy().reshape(-1, 1)\n",
    "\n",
    "x = df_input[\"YEAR\"].to_numpy().reshape(-1, 1)\n",
    "y = df_input[\"MEASURE\"].to_numpy()"
   ]
  },
  {
   "cell_type": "markdown",
   "metadata": {},
   "source": [
    "### Create linear regression model\n",
    "\n",
    "Leverage LinearRegression to create a model."
   ]
  },
  {
   "cell_type": "code",
   "execution_count": 67,
   "metadata": {},
   "outputs": [],
   "source": [
    "model = LinearRegression().fit(x, y)"
   ]
  },
  {
   "cell_type": "markdown",
   "metadata": {},
   "source": [
    "### Test model\n",
    "\n",
    "Test the model on a given predicted value."
   ]
  },
  {
   "cell_type": "code",
   "execution_count": 68,
   "metadata": {},
   "outputs": [
    {
     "name": "stdout",
     "output_type": "stream",
     "text": [
      "    YEAR  MEASURE\n",
      "88  2017  106.054\n",
      "89  2018  108.317\n",
      "90  2019  109.933\n",
      "91  2020  111.145\n",
      "92  2021  115.621\n",
      "Prediction for 2021: 102.19\n"
     ]
    }
   ],
   "source": [
    "predictYear = 2021\n",
    "pce_pred = model.predict([[predictYear]])\n",
    "# print the last 5 years\n",
    "print (df_input.tail() )\n",
    "# run the prediction for 2021\n",
    "print ('Prediction for '+str(predictYear)+': '+ str(round(pce_pred[0],2)))"
   ]
  },
  {
   "cell_type": "markdown",
   "metadata": {},
   "source": [
    "## Not seeing challenge values\n",
    "\n",
    "The challenge expects a 2021 value of 116.23 for this prediction, which I am not seeing. I have tried filtering to 1972 onwards like in the [suggested quickstart](https://quickstarts.snowflake.com/guide/data_apps_summit_lab/) but then I get a value of 116.18\n",
    "\n",
    "I have attempted several different filters for the input data and none reach the desired 116.23 so I think I must be missing a specific input."
   ]
  }
 ],
 "metadata": {
  "kernelspec": {
   "display_name": "Python 3.8.13 ('py38_snowpark_frosty_friday')",
   "language": "python",
   "name": "python3"
  },
  "language_info": {
   "codemirror_mode": {
    "name": "ipython",
    "version": 3
   },
   "file_extension": ".py",
   "mimetype": "text/x-python",
   "name": "python",
   "nbconvert_exporter": "python",
   "pygments_lexer": "ipython3",
   "version": "3.8.13"
  },
  "orig_nbformat": 4,
  "vscode": {
   "interpreter": {
    "hash": "cd13652bdc7134f19cfdb20040ee232d408b3a4812e0863177d92b0155d1d658"
   }
  }
 },
 "nbformat": 4,
 "nbformat_minor": 2
}
