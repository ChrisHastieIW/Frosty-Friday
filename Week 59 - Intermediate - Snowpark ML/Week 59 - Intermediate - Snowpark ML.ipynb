{
 "cells": [
  {
   "cell_type": "markdown",
   "metadata": {},
   "source": [
    "# Snowpark ML and Snowpark for Python\n",
    "\n",
    "[Frosty Friday Challenge: Week 59 - Intermediate - Snowpark ML](https://frostyfriday.org/blog/2023/08/18/week-59-intermediate/)\n",
    "\n",
    "The purpose of this script is to demonstrate simple use of Snowflake's Snowpark ML library. This challenge uses the `DecisionTreeClassifier` constructor, for which we can reference the following [example](https://docs.snowflake.com/en/developer-guide/snowpark-ml/snowpark-ml-modeling#example)."
   ]
  },
  {
   "cell_type": "markdown",
   "metadata": {},
   "source": [
    "## Import the various packages\n",
    "\n",
    "Before we can begin, we must import the required packages."
   ]
  },
  {
   "cell_type": "code",
   "execution_count": 27,
   "metadata": {},
   "outputs": [
    {
     "name": "stdout",
     "output_type": "stream",
     "text": [
      "Snowpark version: 1.5.1\n"
     ]
    }
   ],
   "source": [
    "import pandas as pd\n",
    "from snowflake.snowpark.functions import col\n",
    "from snowflake.snowpark.version import VERSION as snowpark_version\n",
    "\n",
    "snowpark_version_as_string = \".\".join([str(x) for x in list(snowpark_version)])\n",
    "\n",
    "print(f'Snowpark version: {snowpark_version_as_string}')"
   ]
  },
  {
   "cell_type": "markdown",
   "metadata": {},
   "source": [
    "### Snowpark ML Package\n",
    "\n",
    "From the Snowpark ML package, we retrieve the `DecisionTreeClassifier` that will be used for this challenge."
   ]
  },
  {
   "cell_type": "code",
   "execution_count": 2,
   "metadata": {},
   "outputs": [],
   "source": [
    "from snowflake.ml.modeling.tree import DecisionTreeClassifier"
   ]
  },
  {
   "cell_type": "markdown",
   "metadata": {},
   "source": [
    "### InterWorks Snowpark package\n",
    "\n",
    "To simplify creating Snowpark sessions for the enclosed scripts, a custom module called \"interworks_snowpark\" has been used. This is contained in the \"shared/interworks_snowpark\" subdirectory. More details can be found in the [InterWorks Snowpark for Python GitHub repository](https://github.com/interworks/InterWorks-Snowpark-for-Python). This repository also contains instructions on how to configure your local environment for Snowpark for Python, and pairs well with this [Definitive Guide to Snowflake Sessions with Snowpark for Python](https://interworks.com/blog/2022/09/02/a-definitive-guide-to-snowflake-sessions-with-snowpark-for-python/).\n",
    "\n",
    "Alternatively, you can modify the code to establish a Snowflake Snowpark Session through any method of your choice."
   ]
  },
  {
   "cell_type": "code",
   "execution_count": 3,
   "metadata": {},
   "outputs": [],
   "source": [
    "## Import module to build snowpark sessions\n",
    "from shared.interworks_snowpark.interworks_snowpark_python.snowpark_session_builder import build_snowpark_session_via_parameters_json as build_snowpark_session\n",
    "\n",
    "## Generate Snowpark session\n",
    "snowpark_session = build_snowpark_session()"
   ]
  },
  {
   "cell_type": "markdown",
   "metadata": {},
   "source": [
    "## Prepare Snowflake Environment\n",
    "\n",
    "As we do for all Frosty Friday challenges, we configure our environment for a specific database, schema and warehouse."
   ]
  },
  {
   "cell_type": "code",
   "execution_count": 4,
   "metadata": {},
   "outputs": [
    {
     "name": "stdout",
     "output_type": "stream",
     "text": [
      "Current schema: \"CH_FROSTY_FRIDAY\".\"WEEK_59\"\n",
      "Current warehouse: \"WH_CHASTIE\"\n"
     ]
    }
   ],
   "source": [
    "snowpark_session.use_database('\"CH_FROSTY_FRIDAY\"')\n",
    "snowpark_session.sql(\"create or replace schema WEEK_59\").collect()\n",
    "snowpark_session.use_schema('\"CH_FROSTY_FRIDAY\".\"WEEK_59\"')\n",
    "snowpark_session.use_warehouse('\"WH_CHASTIE\"')\n",
    "\n",
    "current_schema = snowpark_session.get_fully_qualified_current_schema()\n",
    "current_warehouse = snowpark_session.get_current_warehouse()\n",
    "\n",
    "print(f'Current schema: {current_schema}')\n",
    "print(f'Current warehouse: {current_warehouse}')"
   ]
  },
  {
   "cell_type": "markdown",
   "metadata": {},
   "source": [
    "## Ingest the data into Snowflake\n",
    "\n",
    "Before we can proceed with Snowpark ML, we need some data to play with. This Frosty Friday challenge already has some data for us to leverage. The data we require is stored in the following location:\n",
    "\n",
    "```s3://frostyfridaychallenges/challenge_59/age_and_income.csv```\n",
    "\n",
    "We create a stage pointing to this cloud storage location, then ingest the file."
   ]
  },
  {
   "cell_type": "markdown",
   "metadata": {},
   "source": [
    "### Create the stage"
   ]
  },
  {
   "cell_type": "code",
   "execution_count": 5,
   "metadata": {},
   "outputs": [
    {
     "data": {
      "text/plain": [
       "[Row(status='Stage area STG_WEEK_59 successfully created.')]"
      ]
     },
     "execution_count": 5,
     "metadata": {},
     "output_type": "execute_result"
    }
   ],
   "source": [
    "snowpark_session.sql('''\n",
    "  create or replace stage \"STG_WEEK_59\"\n",
    "    url = 's3://frostyfridaychallenges/challenge_59/'\n",
    "''').collect()"
   ]
  },
  {
   "cell_type": "markdown",
   "metadata": {},
   "source": [
    "### Investigate files in stage\n",
    "\n",
    "Quickly ingestigate the data to ensure we can ingest it with a standard CSV approach and to learn the table metadata. We could infer schema like we did in challenge 53, but I personally prefer the following method as I can pull in metadata file names and row numbers."
   ]
  },
  {
   "cell_type": "markdown",
   "metadata": {},
   "source": [
    "First, ensure the file is in the stage"
   ]
  },
  {
   "cell_type": "code",
   "execution_count": 6,
   "metadata": {},
   "outputs": [
    {
     "data": {
      "text/plain": [
       "{'ridaychallenges/challenge_59/age_and_income.csv'}"
      ]
     },
     "execution_count": 6,
     "metadata": {},
     "output_type": "execute_result"
    }
   ],
   "source": [
    "snowpark_session._list_files_in_stage('@\"STG_WEEK_59\"')"
   ]
  },
  {
   "cell_type": "markdown",
   "metadata": {},
   "source": [
    "Create a simple file format that will ingest each record of the data into a single field for simple understanding."
   ]
  },
  {
   "cell_type": "code",
   "execution_count": 7,
   "metadata": {},
   "outputs": [
    {
     "data": {
      "text/plain": [
       "[Row(status='File format FF_SINGLE_FIELD successfully created.')]"
      ]
     },
     "execution_count": 7,
     "metadata": {},
     "output_type": "execute_result"
    }
   ],
   "source": [
    "snowpark_session.sql('''\n",
    "  create or replace file format \"FF_SINGLE_FIELD\"\n",
    "    type = CSV\n",
    "    field_delimiter = NONE\n",
    "    record_delimiter = '\\n'\n",
    "    skip_header = 0\n",
    "''').collect()"
   ]
  },
  {
   "cell_type": "markdown",
   "metadata": {},
   "source": [
    "Query the data using the single field file format to understand the contents."
   ]
  },
  {
   "cell_type": "code",
   "execution_count": 33,
   "metadata": {},
   "outputs": [
    {
     "name": "stdout",
     "output_type": "stream",
     "text": [
      "-----------------------------------------------------------------------------------------------------\n",
      "|\"FILE_NAME\"                      |\"ROW_NUMBER\"  |\"CONTENTS\"                                        |\n",
      "-----------------------------------------------------------------------------------------------------\n",
      "|challenge_59/age_and_income.csv  |1             |\"age,monthly_income,made_purchase,sample_weight\"  |\n",
      "|challenge_59/age_and_income.csv  |2             |\"25,3000,0,1\"                                     |\n",
      "|challenge_59/age_and_income.csv  |3             |\"30,3200,0,1\"                                     |\n",
      "|challenge_59/age_and_income.csv  |4             |\"35,3500,1,1\"                                     |\n",
      "|challenge_59/age_and_income.csv  |5             |\"40,3700,0,1\"                                     |\n",
      "|challenge_59/age_and_income.csv  |6             |\"45,4000,1,1\"                                     |\n",
      "|challenge_59/age_and_income.csv  |7             |\"50,4200,1,1\"                                     |\n",
      "|challenge_59/age_and_income.csv  |8             |\"55,4500,1,1\"                                     |\n",
      "|challenge_59/age_and_income.csv  |9             |\"60,4800,1,1\"                                     |\n",
      "|challenge_59/age_and_income.csv  |10            |\"28,3100,0,1\"                                     |\n",
      "-----------------------------------------------------------------------------------------------------\n",
      "\n",
      "----------------------------------------------------\n",
      "|\"CONTENTS\"                                        |\n",
      "----------------------------------------------------\n",
      "|\"age,monthly_income,made_purchase,sample_weight\"  |\n",
      "|\"25,3000,0,1\"                                     |\n",
      "|\"30,3200,0,1\"                                     |\n",
      "|\"35,3500,1,1\"                                     |\n",
      "|\"40,3700,0,1\"                                     |\n",
      "|\"45,4000,1,1\"                                     |\n",
      "|\"50,4200,1,1\"                                     |\n",
      "|\"55,4500,1,1\"                                     |\n",
      "|\"60,4800,1,1\"                                     |\n",
      "|\"28,3100,0,1\"                                     |\n",
      "----------------------------------------------------\n",
      "\n"
     ]
    }
   ],
   "source": [
    "sf_df_single_record = snowpark_session.sql('''\n",
    "  select\n",
    "      metadata$filename::string as \"FILE_NAME\"\n",
    "    , metadata$file_row_number as \"ROW_NUMBER\"\n",
    "    , $1::variant as \"CONTENTS\"\n",
    "  from @\"STG_WEEK_59\"\n",
    "    (file_format => 'FF_SINGLE_FIELD')\n",
    "  order by \n",
    "      \"FILE_NAME\"\n",
    "    , \"ROW_NUMBER\"\n",
    "''')\n",
    "\n",
    "# Show the whole dataframe to ensure it makes sense\n",
    "sf_df_single_record.show()\n",
    "\n",
    "# Show only the CONTENTS field for ease of reading\n",
    "sf_df_single_record.select(col('\"CONTENTS\"')).show()\n"
   ]
  },
  {
   "cell_type": "markdown",
   "metadata": {},
   "source": [
    "The above shows us we have the following columns in our data, where we have made an educated guess on the data types:\n",
    "- AGE - integer\n",
    "- MONTHLY_INCOME - integer\n",
    "- MADE_PURCHASE - boolean\n",
    "- SAMPLE_WEIGHT - integer"
   ]
  },
  {
   "cell_type": "markdown",
   "metadata": {},
   "source": [
    "### Ingest the data\n",
    "\n",
    "We can use what we have learned to create a table and ingest the data into it with a standard file format."
   ]
  },
  {
   "cell_type": "markdown",
   "metadata": {},
   "source": [
    "Create a standard CSV file format to ingest the data."
   ]
  },
  {
   "cell_type": "code",
   "execution_count": 9,
   "metadata": {},
   "outputs": [
    {
     "data": {
      "text/plain": [
       "[Row(status='File format FF_CSV_INGESTION successfully created.')]"
      ]
     },
     "execution_count": 9,
     "metadata": {},
     "output_type": "execute_result"
    }
   ],
   "source": [
    "snowpark_session.sql('''\n",
    "  create or replace file format \"FF_CSV_INGESTION\"\n",
    "    type = CSV\n",
    "    field_delimiter = ','\n",
    "    record_delimiter = '\\n'\n",
    "    skip_header = 1\n",
    "''').collect()"
   ]
  },
  {
   "cell_type": "markdown",
   "metadata": {},
   "source": [
    "Create the table in which we will land the data."
   ]
  },
  {
   "cell_type": "code",
   "execution_count": 10,
   "metadata": {},
   "outputs": [
    {
     "data": {
      "text/plain": [
       "[Row(status='Table RAW_DATA successfully created.')]"
      ]
     },
     "execution_count": 10,
     "metadata": {},
     "output_type": "execute_result"
    }
   ],
   "source": [
    "snowpark_session.sql('''\n",
    "  create or replace table \"RAW_DATA\" (\n",
    "      \"FILE_NAME\" string\n",
    "    , \"ROW_NUMBER\" integer\n",
    "    , \"AGE\" integer\n",
    "    , \"MONTHLY_INCOME\" integer\n",
    "    , \"MADE_PURCHASE\" boolean\n",
    "    , \"SAMPLE_WEIGHT\" integer\n",
    "  )\n",
    "''').collect()"
   ]
  },
  {
   "cell_type": "markdown",
   "metadata": {},
   "source": [
    "Ingest the data."
   ]
  },
  {
   "cell_type": "code",
   "execution_count": 11,
   "metadata": {},
   "outputs": [
    {
     "data": {
      "text/plain": [
       "[Row(file='s3://frostyfridaychallenges/challenge_59/age_and_income.csv', status='LOADED', rows_parsed=24, rows_loaded=24, error_limit=1, errors_seen=0, first_error=None, first_error_line=None, first_error_character=None, first_error_column_name=None)]"
      ]
     },
     "execution_count": 11,
     "metadata": {},
     "output_type": "execute_result"
    }
   ],
   "source": [
    "snowpark_session.sql('''\n",
    "  copy into \"RAW_DATA\"\n",
    "  from (\n",
    "    select \n",
    "        metadata$filename::string as \"FILE_NAME\"\n",
    "      , metadata$file_row_number as \"ROW_NUMBER\"\n",
    "      , $1::int as \"AGE\"\n",
    "      , $2::int as \"MONTHLY_INCOME\"\n",
    "      , $3::boolean as \"MADE_PURCHASE\"\n",
    "      , $4::int as \"SAMPLE_WEIGHT\"\n",
    "    from @\"STG_WEEK_59\"\n",
    "      (file_format => 'FF_CSV_INGESTION')\n",
    "  )\n",
    "''').collect()"
   ]
  },
  {
   "cell_type": "markdown",
   "metadata": {},
   "source": [
    "Sample the data to verify successful ingestion."
   ]
  },
  {
   "cell_type": "code",
   "execution_count": 13,
   "metadata": {},
   "outputs": [
    {
     "name": "stdout",
     "output_type": "stream",
     "text": [
      "-----------------------------------------------------------------------------------------------------------------\n",
      "|\"FILE_NAME\"                      |\"ROW_NUMBER\"  |\"AGE\"  |\"MONTHLY_INCOME\"  |\"MADE_PURCHASE\"  |\"SAMPLE_WEIGHT\"  |\n",
      "-----------------------------------------------------------------------------------------------------------------\n",
      "|challenge_59/age_and_income.csv  |1             |25     |3000              |False            |1                |\n",
      "|challenge_59/age_and_income.csv  |2             |30     |3200              |False            |1                |\n",
      "|challenge_59/age_and_income.csv  |3             |35     |3500              |True             |1                |\n",
      "|challenge_59/age_and_income.csv  |4             |40     |3700              |False            |1                |\n",
      "|challenge_59/age_and_income.csv  |5             |45     |4000              |True             |1                |\n",
      "|challenge_59/age_and_income.csv  |6             |50     |4200              |True             |1                |\n",
      "|challenge_59/age_and_income.csv  |7             |55     |4500              |True             |1                |\n",
      "|challenge_59/age_and_income.csv  |8             |60     |4800              |True             |1                |\n",
      "|challenge_59/age_and_income.csv  |9             |28     |3100              |False            |1                |\n",
      "|challenge_59/age_and_income.csv  |10            |33     |3300              |True             |1                |\n",
      "-----------------------------------------------------------------------------------------------------------------\n",
      "\n"
     ]
    }
   ],
   "source": [
    "snowpark_session.table('\"RAW_DATA\"').show()"
   ]
  },
  {
   "cell_type": "markdown",
   "metadata": {},
   "source": [
    "## Snowpark ML Challenge with DecisionTreeClassifier\n",
    "\n",
    "Now that we have our data in Snowflake, we are ready to begin the main challenge using Snowpark ML. "
   ]
  },
  {
   "cell_type": "markdown",
   "metadata": {},
   "source": [
    "### Load the table to a local Pandas dataframe\n",
    "\n",
    "Load the table into a local pandas dataframe. For simplicity, we select specific fields; excluding metadata fields \"FILE_NAME\" and \"ROW_NUMBER\"."
   ]
  },
  {
   "cell_type": "code",
   "execution_count": 42,
   "metadata": {},
   "outputs": [
    {
     "data": {
      "text/html": [
       "<div>\n",
       "<style scoped>\n",
       "    .dataframe tbody tr th:only-of-type {\n",
       "        vertical-align: middle;\n",
       "    }\n",
       "\n",
       "    .dataframe tbody tr th {\n",
       "        vertical-align: top;\n",
       "    }\n",
       "\n",
       "    .dataframe thead th {\n",
       "        text-align: right;\n",
       "    }\n",
       "</style>\n",
       "<table border=\"1\" class=\"dataframe\">\n",
       "  <thead>\n",
       "    <tr style=\"text-align: right;\">\n",
       "      <th></th>\n",
       "      <th>AGE</th>\n",
       "      <th>MONTHLY_INCOME</th>\n",
       "      <th>MADE_PURCHASE</th>\n",
       "      <th>SAMPLE_WEIGHT</th>\n",
       "    </tr>\n",
       "  </thead>\n",
       "  <tbody>\n",
       "    <tr>\n",
       "      <th>0</th>\n",
       "      <td>25</td>\n",
       "      <td>3000</td>\n",
       "      <td>False</td>\n",
       "      <td>1</td>\n",
       "    </tr>\n",
       "    <tr>\n",
       "      <th>1</th>\n",
       "      <td>30</td>\n",
       "      <td>3200</td>\n",
       "      <td>False</td>\n",
       "      <td>1</td>\n",
       "    </tr>\n",
       "    <tr>\n",
       "      <th>2</th>\n",
       "      <td>35</td>\n",
       "      <td>3500</td>\n",
       "      <td>True</td>\n",
       "      <td>1</td>\n",
       "    </tr>\n",
       "    <tr>\n",
       "      <th>3</th>\n",
       "      <td>40</td>\n",
       "      <td>3700</td>\n",
       "      <td>False</td>\n",
       "      <td>1</td>\n",
       "    </tr>\n",
       "    <tr>\n",
       "      <th>4</th>\n",
       "      <td>45</td>\n",
       "      <td>4000</td>\n",
       "      <td>True</td>\n",
       "      <td>1</td>\n",
       "    </tr>\n",
       "    <tr>\n",
       "      <th>5</th>\n",
       "      <td>50</td>\n",
       "      <td>4200</td>\n",
       "      <td>True</td>\n",
       "      <td>1</td>\n",
       "    </tr>\n",
       "    <tr>\n",
       "      <th>6</th>\n",
       "      <td>55</td>\n",
       "      <td>4500</td>\n",
       "      <td>True</td>\n",
       "      <td>1</td>\n",
       "    </tr>\n",
       "    <tr>\n",
       "      <th>7</th>\n",
       "      <td>60</td>\n",
       "      <td>4800</td>\n",
       "      <td>True</td>\n",
       "      <td>1</td>\n",
       "    </tr>\n",
       "    <tr>\n",
       "      <th>8</th>\n",
       "      <td>28</td>\n",
       "      <td>3100</td>\n",
       "      <td>False</td>\n",
       "      <td>1</td>\n",
       "    </tr>\n",
       "    <tr>\n",
       "      <th>9</th>\n",
       "      <td>33</td>\n",
       "      <td>3300</td>\n",
       "      <td>True</td>\n",
       "      <td>1</td>\n",
       "    </tr>\n",
       "    <tr>\n",
       "      <th>10</th>\n",
       "      <td>38</td>\n",
       "      <td>3600</td>\n",
       "      <td>False</td>\n",
       "      <td>1</td>\n",
       "    </tr>\n",
       "    <tr>\n",
       "      <th>11</th>\n",
       "      <td>43</td>\n",
       "      <td>3900</td>\n",
       "      <td>True</td>\n",
       "      <td>1</td>\n",
       "    </tr>\n",
       "    <tr>\n",
       "      <th>12</th>\n",
       "      <td>48</td>\n",
       "      <td>4100</td>\n",
       "      <td>False</td>\n",
       "      <td>1</td>\n",
       "    </tr>\n",
       "    <tr>\n",
       "      <th>13</th>\n",
       "      <td>53</td>\n",
       "      <td>4300</td>\n",
       "      <td>True</td>\n",
       "      <td>1</td>\n",
       "    </tr>\n",
       "    <tr>\n",
       "      <th>14</th>\n",
       "      <td>58</td>\n",
       "      <td>4600</td>\n",
       "      <td>False</td>\n",
       "      <td>1</td>\n",
       "    </tr>\n",
       "    <tr>\n",
       "      <th>15</th>\n",
       "      <td>63</td>\n",
       "      <td>4900</td>\n",
       "      <td>True</td>\n",
       "      <td>1</td>\n",
       "    </tr>\n",
       "    <tr>\n",
       "      <th>16</th>\n",
       "      <td>27</td>\n",
       "      <td>3050</td>\n",
       "      <td>False</td>\n",
       "      <td>1</td>\n",
       "    </tr>\n",
       "    <tr>\n",
       "      <th>17</th>\n",
       "      <td>32</td>\n",
       "      <td>3250</td>\n",
       "      <td>True</td>\n",
       "      <td>1</td>\n",
       "    </tr>\n",
       "    <tr>\n",
       "      <th>18</th>\n",
       "      <td>37</td>\n",
       "      <td>3550</td>\n",
       "      <td>False</td>\n",
       "      <td>1</td>\n",
       "    </tr>\n",
       "    <tr>\n",
       "      <th>19</th>\n",
       "      <td>42</td>\n",
       "      <td>3750</td>\n",
       "      <td>True</td>\n",
       "      <td>1</td>\n",
       "    </tr>\n",
       "    <tr>\n",
       "      <th>20</th>\n",
       "      <td>47</td>\n",
       "      <td>4050</td>\n",
       "      <td>False</td>\n",
       "      <td>1</td>\n",
       "    </tr>\n",
       "    <tr>\n",
       "      <th>21</th>\n",
       "      <td>52</td>\n",
       "      <td>4250</td>\n",
       "      <td>True</td>\n",
       "      <td>1</td>\n",
       "    </tr>\n",
       "    <tr>\n",
       "      <th>22</th>\n",
       "      <td>57</td>\n",
       "      <td>4550</td>\n",
       "      <td>False</td>\n",
       "      <td>1</td>\n",
       "    </tr>\n",
       "    <tr>\n",
       "      <th>23</th>\n",
       "      <td>62</td>\n",
       "      <td>4850</td>\n",
       "      <td>True</td>\n",
       "      <td>1</td>\n",
       "    </tr>\n",
       "  </tbody>\n",
       "</table>\n",
       "</div>"
      ],
      "text/plain": [
       "    AGE  MONTHLY_INCOME  MADE_PURCHASE  SAMPLE_WEIGHT\n",
       "0    25            3000          False              1\n",
       "1    30            3200          False              1\n",
       "2    35            3500           True              1\n",
       "3    40            3700          False              1\n",
       "4    45            4000           True              1\n",
       "5    50            4200           True              1\n",
       "6    55            4500           True              1\n",
       "7    60            4800           True              1\n",
       "8    28            3100          False              1\n",
       "9    33            3300           True              1\n",
       "10   38            3600          False              1\n",
       "11   43            3900           True              1\n",
       "12   48            4100          False              1\n",
       "13   53            4300           True              1\n",
       "14   58            4600          False              1\n",
       "15   63            4900           True              1\n",
       "16   27            3050          False              1\n",
       "17   32            3250           True              1\n",
       "18   37            3550          False              1\n",
       "19   42            3750           True              1\n",
       "20   47            4050          False              1\n",
       "21   52            4250           True              1\n",
       "22   57            4550          False              1\n",
       "23   62            4850           True              1"
      ]
     },
     "metadata": {},
     "output_type": "display_data"
    }
   ],
   "source": [
    "# Load the data\n",
    "df_raw_data = snowpark_session.table('\"RAW_DATA\"').select(\n",
    "      col('\"AGE\"')\n",
    "    , col('\"MONTHLY_INCOME\"')\n",
    "    , col('\"MADE_PURCHASE\"')\n",
    "    , col('\"SAMPLE_WEIGHT\"')\n",
    "  ).to_pandas()\n",
    "\n",
    "# Display the contents\n",
    "display(df_raw_data)"
   ]
  },
  {
   "cell_type": "markdown",
   "metadata": {},
   "source": [
    "### Create the DecisionTreeClassifier model\n",
    "\n",
    "Leverage `DecisionTreeClassifier` to create a model, for which we can reference the following [example](https://docs.snowflake.com/en/developer-guide/snowpark-ml/snowpark-ml-modeling#example)."
   ]
  },
  {
   "cell_type": "code",
   "execution_count": 44,
   "metadata": {},
   "outputs": [],
   "source": [
    "decision_tree_model = DecisionTreeClassifier(\n",
    "    input_cols=['AGE','MONTHLY_INCOME']\n",
    "  , label_cols=['MADE_PURCHASE']\n",
    "  , sample_weight_col=['SAMPLE_WEIGHT']\n",
    "  , output_cols=['PREDICTED_PURCHASE']\n",
    ")"
   ]
  },
  {
   "cell_type": "markdown",
   "metadata": {},
   "source": [
    "### Fit the model to the data"
   ]
  },
  {
   "cell_type": "code",
   "execution_count": 45,
   "metadata": {},
   "outputs": [
    {
     "data": {
      "text/plain": [
       "<snowflake.ml.modeling.tree.decision_tree_classifier.DecisionTreeClassifier at 0x25f2e8cb0a0>"
      ]
     },
     "execution_count": 45,
     "metadata": {},
     "output_type": "execute_result"
    }
   ],
   "source": [
    "decision_tree_model.fit(df_raw_data)"
   ]
  },
  {
   "cell_type": "markdown",
   "metadata": {},
   "source": [
    "### Make predictions using the model\n",
    "\n",
    "Use the model to generate predicted values."
   ]
  },
  {
   "cell_type": "code",
   "execution_count": 54,
   "metadata": {},
   "outputs": [
    {
     "data": {
      "text/html": [
       "<div>\n",
       "<style scoped>\n",
       "    .dataframe tbody tr th:only-of-type {\n",
       "        vertical-align: middle;\n",
       "    }\n",
       "\n",
       "    .dataframe tbody tr th {\n",
       "        vertical-align: top;\n",
       "    }\n",
       "\n",
       "    .dataframe thead th {\n",
       "        text-align: right;\n",
       "    }\n",
       "</style>\n",
       "<table border=\"1\" class=\"dataframe\">\n",
       "  <thead>\n",
       "    <tr style=\"text-align: right;\">\n",
       "      <th></th>\n",
       "      <th>AGE</th>\n",
       "      <th>MONTHLY_INCOME</th>\n",
       "      <th>MADE_PURCHASE</th>\n",
       "      <th>SAMPLE_WEIGHT</th>\n",
       "      <th>PREDICTED_PURCHASE</th>\n",
       "    </tr>\n",
       "  </thead>\n",
       "  <tbody>\n",
       "    <tr>\n",
       "      <th>0</th>\n",
       "      <td>25</td>\n",
       "      <td>3000</td>\n",
       "      <td>False</td>\n",
       "      <td>1</td>\n",
       "      <td>False</td>\n",
       "    </tr>\n",
       "    <tr>\n",
       "      <th>1</th>\n",
       "      <td>30</td>\n",
       "      <td>3200</td>\n",
       "      <td>False</td>\n",
       "      <td>1</td>\n",
       "      <td>False</td>\n",
       "    </tr>\n",
       "    <tr>\n",
       "      <th>2</th>\n",
       "      <td>35</td>\n",
       "      <td>3500</td>\n",
       "      <td>True</td>\n",
       "      <td>1</td>\n",
       "      <td>True</td>\n",
       "    </tr>\n",
       "    <tr>\n",
       "      <th>3</th>\n",
       "      <td>40</td>\n",
       "      <td>3700</td>\n",
       "      <td>False</td>\n",
       "      <td>1</td>\n",
       "      <td>False</td>\n",
       "    </tr>\n",
       "    <tr>\n",
       "      <th>4</th>\n",
       "      <td>45</td>\n",
       "      <td>4000</td>\n",
       "      <td>True</td>\n",
       "      <td>1</td>\n",
       "      <td>True</td>\n",
       "    </tr>\n",
       "    <tr>\n",
       "      <th>5</th>\n",
       "      <td>50</td>\n",
       "      <td>4200</td>\n",
       "      <td>True</td>\n",
       "      <td>1</td>\n",
       "      <td>True</td>\n",
       "    </tr>\n",
       "    <tr>\n",
       "      <th>6</th>\n",
       "      <td>55</td>\n",
       "      <td>4500</td>\n",
       "      <td>True</td>\n",
       "      <td>1</td>\n",
       "      <td>True</td>\n",
       "    </tr>\n",
       "    <tr>\n",
       "      <th>7</th>\n",
       "      <td>60</td>\n",
       "      <td>4800</td>\n",
       "      <td>True</td>\n",
       "      <td>1</td>\n",
       "      <td>True</td>\n",
       "    </tr>\n",
       "    <tr>\n",
       "      <th>8</th>\n",
       "      <td>28</td>\n",
       "      <td>3100</td>\n",
       "      <td>False</td>\n",
       "      <td>1</td>\n",
       "      <td>False</td>\n",
       "    </tr>\n",
       "    <tr>\n",
       "      <th>9</th>\n",
       "      <td>33</td>\n",
       "      <td>3300</td>\n",
       "      <td>True</td>\n",
       "      <td>1</td>\n",
       "      <td>True</td>\n",
       "    </tr>\n",
       "    <tr>\n",
       "      <th>10</th>\n",
       "      <td>38</td>\n",
       "      <td>3600</td>\n",
       "      <td>False</td>\n",
       "      <td>1</td>\n",
       "      <td>False</td>\n",
       "    </tr>\n",
       "    <tr>\n",
       "      <th>11</th>\n",
       "      <td>43</td>\n",
       "      <td>3900</td>\n",
       "      <td>True</td>\n",
       "      <td>1</td>\n",
       "      <td>True</td>\n",
       "    </tr>\n",
       "    <tr>\n",
       "      <th>12</th>\n",
       "      <td>48</td>\n",
       "      <td>4100</td>\n",
       "      <td>False</td>\n",
       "      <td>1</td>\n",
       "      <td>False</td>\n",
       "    </tr>\n",
       "    <tr>\n",
       "      <th>13</th>\n",
       "      <td>53</td>\n",
       "      <td>4300</td>\n",
       "      <td>True</td>\n",
       "      <td>1</td>\n",
       "      <td>True</td>\n",
       "    </tr>\n",
       "    <tr>\n",
       "      <th>14</th>\n",
       "      <td>58</td>\n",
       "      <td>4600</td>\n",
       "      <td>False</td>\n",
       "      <td>1</td>\n",
       "      <td>False</td>\n",
       "    </tr>\n",
       "    <tr>\n",
       "      <th>15</th>\n",
       "      <td>63</td>\n",
       "      <td>4900</td>\n",
       "      <td>True</td>\n",
       "      <td>1</td>\n",
       "      <td>True</td>\n",
       "    </tr>\n",
       "    <tr>\n",
       "      <th>16</th>\n",
       "      <td>27</td>\n",
       "      <td>3050</td>\n",
       "      <td>False</td>\n",
       "      <td>1</td>\n",
       "      <td>False</td>\n",
       "    </tr>\n",
       "    <tr>\n",
       "      <th>17</th>\n",
       "      <td>32</td>\n",
       "      <td>3250</td>\n",
       "      <td>True</td>\n",
       "      <td>1</td>\n",
       "      <td>True</td>\n",
       "    </tr>\n",
       "    <tr>\n",
       "      <th>18</th>\n",
       "      <td>37</td>\n",
       "      <td>3550</td>\n",
       "      <td>False</td>\n",
       "      <td>1</td>\n",
       "      <td>False</td>\n",
       "    </tr>\n",
       "    <tr>\n",
       "      <th>19</th>\n",
       "      <td>42</td>\n",
       "      <td>3750</td>\n",
       "      <td>True</td>\n",
       "      <td>1</td>\n",
       "      <td>True</td>\n",
       "    </tr>\n",
       "    <tr>\n",
       "      <th>20</th>\n",
       "      <td>47</td>\n",
       "      <td>4050</td>\n",
       "      <td>False</td>\n",
       "      <td>1</td>\n",
       "      <td>False</td>\n",
       "    </tr>\n",
       "    <tr>\n",
       "      <th>21</th>\n",
       "      <td>52</td>\n",
       "      <td>4250</td>\n",
       "      <td>True</td>\n",
       "      <td>1</td>\n",
       "      <td>True</td>\n",
       "    </tr>\n",
       "    <tr>\n",
       "      <th>22</th>\n",
       "      <td>57</td>\n",
       "      <td>4550</td>\n",
       "      <td>False</td>\n",
       "      <td>1</td>\n",
       "      <td>False</td>\n",
       "    </tr>\n",
       "    <tr>\n",
       "      <th>23</th>\n",
       "      <td>62</td>\n",
       "      <td>4850</td>\n",
       "      <td>True</td>\n",
       "      <td>1</td>\n",
       "      <td>True</td>\n",
       "    </tr>\n",
       "  </tbody>\n",
       "</table>\n",
       "</div>"
      ],
      "text/plain": [
       "    AGE  MONTHLY_INCOME  MADE_PURCHASE  SAMPLE_WEIGHT  PREDICTED_PURCHASE\n",
       "0    25            3000          False              1               False\n",
       "1    30            3200          False              1               False\n",
       "2    35            3500           True              1                True\n",
       "3    40            3700          False              1               False\n",
       "4    45            4000           True              1                True\n",
       "5    50            4200           True              1                True\n",
       "6    55            4500           True              1                True\n",
       "7    60            4800           True              1                True\n",
       "8    28            3100          False              1               False\n",
       "9    33            3300           True              1                True\n",
       "10   38            3600          False              1               False\n",
       "11   43            3900           True              1                True\n",
       "12   48            4100          False              1               False\n",
       "13   53            4300           True              1                True\n",
       "14   58            4600          False              1               False\n",
       "15   63            4900           True              1                True\n",
       "16   27            3050          False              1               False\n",
       "17   32            3250           True              1                True\n",
       "18   37            3550          False              1               False\n",
       "19   42            3750           True              1                True\n",
       "20   47            4050          False              1               False\n",
       "21   52            4250           True              1                True\n",
       "22   57            4550          False              1               False\n",
       "23   62            4850           True              1                True"
      ]
     },
     "metadata": {},
     "output_type": "display_data"
    }
   ],
   "source": [
    "# Create new dataframe with the predictions\n",
    "df_with_predictions = decision_tree_model.predict(df_raw_data)\n",
    "\n",
    "# Display the contents\n",
    "display(df_with_predictions)"
   ]
  },
  {
   "cell_type": "markdown",
   "metadata": {},
   "source": [
    "## Challenge Output\n",
    "\n",
    "For the challenge output, display only the predictions."
   ]
  },
  {
   "cell_type": "code",
   "execution_count": 55,
   "metadata": {},
   "outputs": [
    {
     "data": {
      "text/html": [
       "<div>\n",
       "<style scoped>\n",
       "    .dataframe tbody tr th:only-of-type {\n",
       "        vertical-align: middle;\n",
       "    }\n",
       "\n",
       "    .dataframe tbody tr th {\n",
       "        vertical-align: top;\n",
       "    }\n",
       "\n",
       "    .dataframe thead th {\n",
       "        text-align: right;\n",
       "    }\n",
       "</style>\n",
       "<table border=\"1\" class=\"dataframe\">\n",
       "  <thead>\n",
       "    <tr style=\"text-align: right;\">\n",
       "      <th></th>\n",
       "      <th>PREDICTED_PURCHASE</th>\n",
       "    </tr>\n",
       "  </thead>\n",
       "  <tbody>\n",
       "    <tr>\n",
       "      <th>0</th>\n",
       "      <td>False</td>\n",
       "    </tr>\n",
       "    <tr>\n",
       "      <th>1</th>\n",
       "      <td>False</td>\n",
       "    </tr>\n",
       "    <tr>\n",
       "      <th>2</th>\n",
       "      <td>True</td>\n",
       "    </tr>\n",
       "    <tr>\n",
       "      <th>3</th>\n",
       "      <td>False</td>\n",
       "    </tr>\n",
       "    <tr>\n",
       "      <th>4</th>\n",
       "      <td>True</td>\n",
       "    </tr>\n",
       "    <tr>\n",
       "      <th>5</th>\n",
       "      <td>True</td>\n",
       "    </tr>\n",
       "    <tr>\n",
       "      <th>6</th>\n",
       "      <td>True</td>\n",
       "    </tr>\n",
       "    <tr>\n",
       "      <th>7</th>\n",
       "      <td>True</td>\n",
       "    </tr>\n",
       "    <tr>\n",
       "      <th>8</th>\n",
       "      <td>False</td>\n",
       "    </tr>\n",
       "    <tr>\n",
       "      <th>9</th>\n",
       "      <td>True</td>\n",
       "    </tr>\n",
       "    <tr>\n",
       "      <th>10</th>\n",
       "      <td>False</td>\n",
       "    </tr>\n",
       "    <tr>\n",
       "      <th>11</th>\n",
       "      <td>True</td>\n",
       "    </tr>\n",
       "    <tr>\n",
       "      <th>12</th>\n",
       "      <td>False</td>\n",
       "    </tr>\n",
       "    <tr>\n",
       "      <th>13</th>\n",
       "      <td>True</td>\n",
       "    </tr>\n",
       "    <tr>\n",
       "      <th>14</th>\n",
       "      <td>False</td>\n",
       "    </tr>\n",
       "    <tr>\n",
       "      <th>15</th>\n",
       "      <td>True</td>\n",
       "    </tr>\n",
       "    <tr>\n",
       "      <th>16</th>\n",
       "      <td>False</td>\n",
       "    </tr>\n",
       "    <tr>\n",
       "      <th>17</th>\n",
       "      <td>True</td>\n",
       "    </tr>\n",
       "    <tr>\n",
       "      <th>18</th>\n",
       "      <td>False</td>\n",
       "    </tr>\n",
       "    <tr>\n",
       "      <th>19</th>\n",
       "      <td>True</td>\n",
       "    </tr>\n",
       "    <tr>\n",
       "      <th>20</th>\n",
       "      <td>False</td>\n",
       "    </tr>\n",
       "    <tr>\n",
       "      <th>21</th>\n",
       "      <td>True</td>\n",
       "    </tr>\n",
       "    <tr>\n",
       "      <th>22</th>\n",
       "      <td>False</td>\n",
       "    </tr>\n",
       "    <tr>\n",
       "      <th>23</th>\n",
       "      <td>True</td>\n",
       "    </tr>\n",
       "  </tbody>\n",
       "</table>\n",
       "</div>"
      ],
      "text/plain": [
       "    PREDICTED_PURCHASE\n",
       "0                False\n",
       "1                False\n",
       "2                 True\n",
       "3                False\n",
       "4                 True\n",
       "5                 True\n",
       "6                 True\n",
       "7                 True\n",
       "8                False\n",
       "9                 True\n",
       "10               False\n",
       "11                True\n",
       "12               False\n",
       "13                True\n",
       "14               False\n",
       "15                True\n",
       "16               False\n",
       "17                True\n",
       "18               False\n",
       "19                True\n",
       "20               False\n",
       "21                True\n",
       "22               False\n",
       "23                True"
      ]
     },
     "metadata": {},
     "output_type": "display_data"
    }
   ],
   "source": [
    "display(df_with_predictions[['PREDICTED_PURCHASE']])"
   ]
  }
 ],
 "metadata": {
  "kernelspec": {
   "display_name": "Python 3.8.13 ('py38_snowpark_frosty_friday')",
   "language": "python",
   "name": "python3"
  },
  "language_info": {
   "codemirror_mode": {
    "name": "ipython",
    "version": 3
   },
   "file_extension": ".py",
   "mimetype": "text/x-python",
   "name": "python",
   "nbconvert_exporter": "python",
   "pygments_lexer": "ipython3",
   "version": "3.8.13"
  },
  "orig_nbformat": 4,
  "vscode": {
   "interpreter": {
    "hash": "cd13652bdc7134f19cfdb20040ee232d408b3a4812e0863177d92b0155d1d658"
   }
  }
 },
 "nbformat": 4,
 "nbformat_minor": 2
}
